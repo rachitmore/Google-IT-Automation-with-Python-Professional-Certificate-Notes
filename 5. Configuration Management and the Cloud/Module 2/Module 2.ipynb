{
 "cells": [
  {
   "cell_type": "markdown",
   "id": "0d59b597",
   "metadata": {},
   "source": [
    "## Deploying Puppet\n",
    "\n",
    "### Learning Objectives\n",
    "* Deploy and run Puppet locally\n",
    "* Create, modify, and update Puppet rules\n",
    "* Understand the concepts of public key infrastructure and secure socket layer\n",
    "* Understand the difference between production and testing environments\n",
    "* Explore how canaries and development environments are helpful when deploying changes\n",
    "* Understand the benefits of multiple environments"
   ]
  },
  {
   "cell_type": "markdown",
   "id": "c5c5f93d",
   "metadata": {},
   "source": [
    "## Deploying Puppet Locally"
   ]
  },
  {
   "cell_type": "code",
   "execution_count": null,
   "id": "bc5938d9",
   "metadata": {},
   "outputs": [],
   "source": []
  },
  {
   "cell_type": "markdown",
   "id": "e0ecd687",
   "metadata": {},
   "source": [
    "## Deploying Puppet to Clients"
   ]
  },
  {
   "cell_type": "code",
   "execution_count": null,
   "id": "e07d2a8e",
   "metadata": {},
   "outputs": [],
   "source": []
  },
  {
   "cell_type": "markdown",
   "id": "1306fc4d",
   "metadata": {},
   "source": [
    "## Updating Deployments"
   ]
  },
  {
   "cell_type": "code",
   "execution_count": null,
   "id": "b24d609d",
   "metadata": {},
   "outputs": [],
   "source": []
  },
  {
   "cell_type": "markdown",
   "id": "64394b80",
   "metadata": {},
   "source": [
    "## Module Review"
   ]
  },
  {
   "cell_type": "code",
   "execution_count": null,
   "id": "96e0298b",
   "metadata": {},
   "outputs": [],
   "source": []
  },
  {
   "cell_type": "code",
   "execution_count": null,
   "id": "c73d4964",
   "metadata": {},
   "outputs": [],
   "source": []
  },
  {
   "cell_type": "code",
   "execution_count": null,
   "id": "113991c2",
   "metadata": {},
   "outputs": [],
   "source": []
  },
  {
   "cell_type": "code",
   "execution_count": null,
   "id": "7dabc4b4",
   "metadata": {},
   "outputs": [],
   "source": []
  }
 ],
 "metadata": {
  "kernelspec": {
   "display_name": "Python 3 (ipykernel)",
   "language": "python",
   "name": "python3"
  },
  "language_info": {
   "codemirror_mode": {
    "name": "ipython",
    "version": 3
   },
   "file_extension": ".py",
   "mimetype": "text/x-python",
   "name": "python",
   "nbconvert_exporter": "python",
   "pygments_lexer": "ipython3",
   "version": "3.11.5"
  }
 },
 "nbformat": 4,
 "nbformat_minor": 5
}
