{
 "cells": [
  {
   "cell_type": "markdown",
   "id": "b9f358f7",
   "metadata": {},
   "source": [
    "## Managing Cloud Instance at Scale\n",
    "\n",
    "### Learning Objectives\n",
    "* Understand and explain the different types of storage available\n",
    "* Explain the difference between round robin DNS and sticky sessions\n",
    "* List the different types of integration testing that are available\n",
    "* Understand and explain the concept of SLAs\n",
    "* Troubleshoot and debug a system without being physically present\n",
    "* Understand what a rollback is and how they can help in a system failure\n",
    "* Understand how primary and secondary instances can help in a disaster recovery situation "
   ]
  },
  {
   "cell_type": "markdown",
   "id": "0701f4ce",
   "metadata": {},
   "source": [
    "## Building Software for the Cloud"
   ]
  },
  {
   "cell_type": "code",
   "execution_count": null,
   "id": "361ec1a3",
   "metadata": {},
   "outputs": [],
   "source": []
  },
  {
   "cell_type": "markdown",
   "id": "94750385",
   "metadata": {},
   "source": [
    "## Monitoring and Alerting"
   ]
  },
  {
   "cell_type": "code",
   "execution_count": null,
   "id": "1d0239b0",
   "metadata": {},
   "outputs": [],
   "source": []
  },
  {
   "cell_type": "markdown",
   "id": "fec721d0",
   "metadata": {},
   "source": [
    "## Troubleshooting and Debugging"
   ]
  },
  {
   "cell_type": "code",
   "execution_count": null,
   "id": "fd80a4b6",
   "metadata": {},
   "outputs": [],
   "source": []
  },
  {
   "cell_type": "markdown",
   "id": "b7158ed3",
   "metadata": {},
   "source": [
    "## Module Review"
   ]
  },
  {
   "cell_type": "code",
   "execution_count": null,
   "id": "d2faf04b",
   "metadata": {},
   "outputs": [],
   "source": []
  },
  {
   "cell_type": "code",
   "execution_count": null,
   "id": "59170bda",
   "metadata": {},
   "outputs": [],
   "source": []
  },
  {
   "cell_type": "code",
   "execution_count": null,
   "id": "f33a2bc9",
   "metadata": {},
   "outputs": [],
   "source": []
  },
  {
   "cell_type": "code",
   "execution_count": null,
   "id": "1814ca8e",
   "metadata": {},
   "outputs": [],
   "source": []
  },
  {
   "cell_type": "code",
   "execution_count": null,
   "id": "359b878c",
   "metadata": {},
   "outputs": [],
   "source": []
  },
  {
   "cell_type": "code",
   "execution_count": null,
   "id": "54e046b9",
   "metadata": {},
   "outputs": [],
   "source": []
  }
 ],
 "metadata": {
  "kernelspec": {
   "display_name": "Python 3 (ipykernel)",
   "language": "python",
   "name": "python3"
  },
  "language_info": {
   "codemirror_mode": {
    "name": "ipython",
    "version": 3
   },
   "file_extension": ".py",
   "mimetype": "text/x-python",
   "name": "python",
   "nbconvert_exporter": "python",
   "pygments_lexer": "ipython3",
   "version": "3.11.5"
  }
 },
 "nbformat": 4,
 "nbformat_minor": 5
}
