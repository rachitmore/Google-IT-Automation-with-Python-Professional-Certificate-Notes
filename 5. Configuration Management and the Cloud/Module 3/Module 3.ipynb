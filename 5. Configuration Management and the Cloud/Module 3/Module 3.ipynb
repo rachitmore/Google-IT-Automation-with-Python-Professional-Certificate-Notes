{
 "cells": [
  {
   "cell_type": "markdown",
   "id": "c43f536d",
   "metadata": {},
   "source": [
    "## Automation in the Cloud\n",
    "\n",
    "### Learning Objectives\n",
    "* Understand and define SaaS, PaaS, and IaaS\n",
    "* Understand the concept of scaling in the cloud and the different ways of scaling\n",
    "* Explain what lift and shift means when migrating to the cloud\n",
    "* Deploy an instance in the cloud\n",
    "* Understand the difference between auto scaling and load balancing\n",
    "* Differentiate between orchestration and automation\n",
    "* Define the concept of Infrastructure as Code (IaC)"
   ]
  },
  {
   "cell_type": "markdown",
   "id": "2e817f46",
   "metadata": {},
   "source": [
    "## Cloud Computing"
   ]
  },
  {
   "cell_type": "code",
   "execution_count": null,
   "id": "b00ae068",
   "metadata": {},
   "outputs": [],
   "source": []
  },
  {
   "cell_type": "markdown",
   "id": "176fade7",
   "metadata": {},
   "source": [
    "## Managing Instance in the Cloud"
   ]
  },
  {
   "cell_type": "code",
   "execution_count": null,
   "id": "67229195",
   "metadata": {},
   "outputs": [],
   "source": []
  },
  {
   "cell_type": "markdown",
   "id": "b19426e3",
   "metadata": {},
   "source": [
    "## Automating Cloud Deployments"
   ]
  },
  {
   "cell_type": "code",
   "execution_count": null,
   "id": "bfd84290",
   "metadata": {},
   "outputs": [],
   "source": []
  },
  {
   "cell_type": "markdown",
   "id": "c35dded5",
   "metadata": {},
   "source": [
    "## Module Review"
   ]
  },
  {
   "cell_type": "code",
   "execution_count": null,
   "id": "11577890",
   "metadata": {},
   "outputs": [],
   "source": []
  },
  {
   "cell_type": "code",
   "execution_count": null,
   "id": "b1ecbc67",
   "metadata": {},
   "outputs": [],
   "source": []
  },
  {
   "cell_type": "code",
   "execution_count": null,
   "id": "f8726d0b",
   "metadata": {},
   "outputs": [],
   "source": []
  }
 ],
 "metadata": {
  "kernelspec": {
   "display_name": "Python 3 (ipykernel)",
   "language": "python",
   "name": "python3"
  },
  "language_info": {
   "codemirror_mode": {
    "name": "ipython",
    "version": 3
   },
   "file_extension": ".py",
   "mimetype": "text/x-python",
   "name": "python",
   "nbconvert_exporter": "python",
   "pygments_lexer": "ipython3",
   "version": "3.11.5"
  }
 },
 "nbformat": 4,
 "nbformat_minor": 5
}
