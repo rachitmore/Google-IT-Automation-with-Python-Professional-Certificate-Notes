{
 "cells": [
  {
   "cell_type": "markdown",
   "id": "c86d0ec2",
   "metadata": {},
   "source": [
    "## Automating with Configuration Management\n",
    "\n",
    "### Learning Objectives\n",
    "* Understand the definition of working at scale and how automation is an essential tool\n",
    "* Understand the difference between unmanaged and managed configuration systems\n",
    "* List the benefits of infrastructure as code\n",
    "* Understand what Puppet is and how Puppet facts work\n",
    "* Understand what Puppet resources and classes are\n",
    "* Define the principles of configuration management"
   ]
  },
  {
   "cell_type": "markdown",
   "id": "6cbb5048",
   "metadata": {},
   "source": [
    "## Course Introduction"
   ]
  },
  {
   "cell_type": "code",
   "execution_count": null,
   "id": "510465c2",
   "metadata": {},
   "outputs": [],
   "source": []
  },
  {
   "cell_type": "markdown",
   "id": "3b385ed2",
   "metadata": {},
   "source": [
    "## Introduction to Automation at Scale"
   ]
  },
  {
   "cell_type": "code",
   "execution_count": null,
   "id": "941c90b4",
   "metadata": {},
   "outputs": [],
   "source": []
  },
  {
   "cell_type": "markdown",
   "id": "7389f064",
   "metadata": {},
   "source": [
    "## Introduction at Puppet"
   ]
  },
  {
   "cell_type": "code",
   "execution_count": null,
   "id": "63225bf3",
   "metadata": {},
   "outputs": [],
   "source": []
  },
  {
   "cell_type": "markdown",
   "id": "80bea8f0",
   "metadata": {},
   "source": [
    "## The Building Block of Configuration Management"
   ]
  },
  {
   "cell_type": "code",
   "execution_count": null,
   "id": "66fe5e04",
   "metadata": {},
   "outputs": [],
   "source": []
  },
  {
   "cell_type": "markdown",
   "id": "bd268129",
   "metadata": {},
   "source": [
    "## Module review"
   ]
  },
  {
   "cell_type": "code",
   "execution_count": null,
   "id": "f5462ed0",
   "metadata": {},
   "outputs": [],
   "source": []
  }
 ],
 "metadata": {
  "kernelspec": {
   "display_name": "Python 3 (ipykernel)",
   "language": "python",
   "name": "python3"
  },
  "language_info": {
   "codemirror_mode": {
    "name": "ipython",
    "version": 3
   },
   "file_extension": ".py",
   "mimetype": "text/x-python",
   "name": "python",
   "nbconvert_exporter": "python",
   "pygments_lexer": "ipython3",
   "version": "3.11.5"
  }
 },
 "nbformat": 4,
 "nbformat_minor": 5
}
