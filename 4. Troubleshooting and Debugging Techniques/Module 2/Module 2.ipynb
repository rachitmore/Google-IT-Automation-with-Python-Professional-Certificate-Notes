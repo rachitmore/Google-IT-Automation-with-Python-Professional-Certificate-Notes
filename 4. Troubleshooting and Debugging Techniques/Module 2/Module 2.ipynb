{
 "cells": [
  {
   "cell_type": "markdown",
   "id": "76eba062",
   "metadata": {},
   "source": [
    "## Slowness\n",
    "\n",
    "### Learning Objectives\n",
    "* Understand what slowness is and utilize tools to identify the bottleneck causing the issue\n",
    "* Utilize tools like iotop and iftop to identify exhausted resources\n",
    "* Understand the different computer components and how they can contribute to slowness\n",
    "* Understand how to write efficient code, and utilize the use of data structures and loops to help your code run efficiently\n",
    "* Utilize concurrency, caching services, and threads to improve the execution of your code"
   ]
  },
  {
   "cell_type": "markdown",
   "id": "bdfd9168",
   "metadata": {},
   "source": [
    "## Understanding Slowness\n"
   ]
  },
  {
   "cell_type": "code",
   "execution_count": null,
   "id": "7991ac62",
   "metadata": {},
   "outputs": [],
   "source": []
  },
  {
   "cell_type": "markdown",
   "id": "0cebe6b6",
   "metadata": {},
   "source": [
    "## Slow Code"
   ]
  },
  {
   "cell_type": "code",
   "execution_count": null,
   "id": "b678a568",
   "metadata": {},
   "outputs": [],
   "source": []
  },
  {
   "cell_type": "markdown",
   "id": "f733c8a6",
   "metadata": {},
   "source": [
    "## When Slowness Problems Get Complex"
   ]
  },
  {
   "cell_type": "code",
   "execution_count": null,
   "id": "1f51f946",
   "metadata": {},
   "outputs": [],
   "source": []
  },
  {
   "cell_type": "markdown",
   "id": "a782b5cb",
   "metadata": {},
   "source": [
    "## Model Review"
   ]
  },
  {
   "cell_type": "code",
   "execution_count": null,
   "id": "142ca37d",
   "metadata": {},
   "outputs": [],
   "source": []
  },
  {
   "cell_type": "code",
   "execution_count": null,
   "id": "fa365725",
   "metadata": {},
   "outputs": [],
   "source": []
  },
  {
   "cell_type": "code",
   "execution_count": null,
   "id": "832a0142",
   "metadata": {},
   "outputs": [],
   "source": []
  },
  {
   "cell_type": "code",
   "execution_count": null,
   "id": "e361fb39",
   "metadata": {},
   "outputs": [],
   "source": []
  },
  {
   "cell_type": "code",
   "execution_count": null,
   "id": "d1b5e50a",
   "metadata": {},
   "outputs": [],
   "source": []
  }
 ],
 "metadata": {
  "kernelspec": {
   "display_name": "Python 3 (ipykernel)",
   "language": "python",
   "name": "python3"
  },
  "language_info": {
   "codemirror_mode": {
    "name": "ipython",
    "version": 3
   },
   "file_extension": ".py",
   "mimetype": "text/x-python",
   "name": "python",
   "nbconvert_exporter": "python",
   "pygments_lexer": "ipython3",
   "version": "3.11.5"
  }
 },
 "nbformat": 4,
 "nbformat_minor": 5
}
