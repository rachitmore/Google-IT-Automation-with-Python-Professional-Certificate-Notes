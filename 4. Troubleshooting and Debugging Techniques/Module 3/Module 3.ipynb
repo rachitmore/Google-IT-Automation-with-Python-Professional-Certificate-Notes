{
 "cells": [
  {
   "cell_type": "markdown",
   "id": "6bfaa74c",
   "metadata": {},
   "source": [
    "## Crashing Programs\n",
    "\n",
    "### Learning Objectives\n",
    "* Understand the difference between system and application crashes\n",
    "* Utilize skills in debugging and log reading to identify these crashes\n",
    "* Understand the different types of code crashes and be able to address invalid memory errors\n",
    "* Utilize techniques, like printf debugging, to troubleshoot and resolve unhandled errors and exceptions\n",
    "* Understand how communication and documentation during an outage or error is critical\n",
    "* Understand what a postmortem is and what should be included in one"
   ]
  },
  {
   "cell_type": "markdown",
   "id": "b814aed6",
   "metadata": {},
   "source": [
    "## Why Programs Crash"
   ]
  },
  {
   "cell_type": "code",
   "execution_count": null,
   "id": "5fa6649e",
   "metadata": {},
   "outputs": [],
   "source": []
  },
  {
   "cell_type": "markdown",
   "id": "040d1b3e",
   "metadata": {},
   "source": [
    "## Code That Crashes"
   ]
  },
  {
   "cell_type": "code",
   "execution_count": null,
   "id": "2d6dc4f6",
   "metadata": {},
   "outputs": [],
   "source": []
  },
  {
   "cell_type": "markdown",
   "id": "17e83885",
   "metadata": {},
   "source": [
    "## Handling Bigger Incidents"
   ]
  },
  {
   "cell_type": "code",
   "execution_count": null,
   "id": "01e9de0b",
   "metadata": {},
   "outputs": [],
   "source": []
  },
  {
   "cell_type": "markdown",
   "id": "62b332f3",
   "metadata": {},
   "source": [
    "## Module Review"
   ]
  },
  {
   "cell_type": "code",
   "execution_count": null,
   "id": "a90f9e6e",
   "metadata": {},
   "outputs": [],
   "source": []
  },
  {
   "cell_type": "code",
   "execution_count": null,
   "id": "624d8e9a",
   "metadata": {},
   "outputs": [],
   "source": []
  },
  {
   "cell_type": "code",
   "execution_count": null,
   "id": "618e2de6",
   "metadata": {},
   "outputs": [],
   "source": []
  },
  {
   "cell_type": "code",
   "execution_count": null,
   "id": "6b2b8596",
   "metadata": {},
   "outputs": [],
   "source": []
  },
  {
   "cell_type": "code",
   "execution_count": null,
   "id": "ccd0ab5b",
   "metadata": {},
   "outputs": [],
   "source": []
  }
 ],
 "metadata": {
  "kernelspec": {
   "display_name": "Python 3 (ipykernel)",
   "language": "python",
   "name": "python3"
  },
  "language_info": {
   "codemirror_mode": {
    "name": "ipython",
    "version": 3
   },
   "file_extension": ".py",
   "mimetype": "text/x-python",
   "name": "python",
   "nbconvert_exporter": "python",
   "pygments_lexer": "ipython3",
   "version": "3.11.5"
  }
 },
 "nbformat": 4,
 "nbformat_minor": 5
}
