{
 "cells": [
  {
   "cell_type": "markdown",
   "id": "e55114f8",
   "metadata": {},
   "source": [
    "## Troubleshooting Concepts\n",
    "\n",
    "### Learning Objectives\n",
    "* Understand the concept of troubleshooting\n",
    "* Grasp what debugging is and how it can help in the troubleshooting process\n",
    "* Understand how to get to the root cause of a problem\n",
    "* Utilize the right approach for recurring problems and intermittent problems\n",
    "* Understand the difference between linear and binary searches\n",
    "* Search CSV files for invalid data"
   ]
  },
  {
   "cell_type": "markdown",
   "id": "68bdb81f",
   "metadata": {},
   "source": [
    "## Course Introduction"
   ]
  },
  {
   "cell_type": "code",
   "execution_count": null,
   "id": "f99d5538",
   "metadata": {},
   "outputs": [],
   "source": []
  },
  {
   "cell_type": "markdown",
   "id": "1debc1b9",
   "metadata": {},
   "source": [
    "## Introduction to Debugging"
   ]
  },
  {
   "cell_type": "code",
   "execution_count": null,
   "id": "319d97a4",
   "metadata": {},
   "outputs": [],
   "source": []
  },
  {
   "cell_type": "markdown",
   "id": "a894193d",
   "metadata": {},
   "source": [
    "## Understanding the Problem"
   ]
  },
  {
   "cell_type": "code",
   "execution_count": null,
   "id": "f8658bbb",
   "metadata": {},
   "outputs": [],
   "source": []
  },
  {
   "cell_type": "markdown",
   "id": "d144b7e6",
   "metadata": {},
   "source": [
    "## Binary Searching a Problem"
   ]
  },
  {
   "cell_type": "code",
   "execution_count": null,
   "id": "6dc6fd0e",
   "metadata": {},
   "outputs": [],
   "source": []
  },
  {
   "cell_type": "markdown",
   "id": "fb1501ad",
   "metadata": {},
   "source": [
    "## Module Review"
   ]
  },
  {
   "cell_type": "code",
   "execution_count": null,
   "id": "f91779f7",
   "metadata": {},
   "outputs": [],
   "source": []
  }
 ],
 "metadata": {
  "kernelspec": {
   "display_name": "Python 3 (ipykernel)",
   "language": "python",
   "name": "python3"
  },
  "language_info": {
   "codemirror_mode": {
    "name": "ipython",
    "version": 3
   },
   "file_extension": ".py",
   "mimetype": "text/x-python",
   "name": "python",
   "nbconvert_exporter": "python",
   "pygments_lexer": "ipython3",
   "version": "3.11.5"
  }
 },
 "nbformat": 4,
 "nbformat_minor": 5
}
