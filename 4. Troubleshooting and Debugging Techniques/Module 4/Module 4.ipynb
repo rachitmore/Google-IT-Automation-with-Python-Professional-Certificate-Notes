{
 "cells": [
  {
   "cell_type": "markdown",
   "id": "89ca85ba",
   "metadata": {},
   "source": [
    "## Managing Resource\n",
    "\n",
    "### Learning Objectives\n",
    "* Understand how to manage disk space, avoid network saturation, and manage memory leaks\n",
    "* Utilize their techniques to manage their time correctly by prioritizing tasks and estimating how long tasks will take\n",
    "* Understand the importance of communicating expectations of completing tasks, fixes, and bugs\n",
    "* Understand how to deal with complex problems by breaking them down\n",
    "* Utilize proactive approaches like continuous integration or having a test environment\n",
    "* Utilize best practices when planning for the future"
   ]
  },
  {
   "cell_type": "markdown",
   "id": "ab401285",
   "metadata": {},
   "source": [
    "## Managing Computer Resources "
   ]
  },
  {
   "cell_type": "code",
   "execution_count": null,
   "id": "c24fd1a7",
   "metadata": {},
   "outputs": [],
   "source": []
  },
  {
   "cell_type": "markdown",
   "id": "ac0fb263",
   "metadata": {},
   "source": [
    "## Managing Our Time"
   ]
  },
  {
   "cell_type": "code",
   "execution_count": null,
   "id": "76ed1ff2",
   "metadata": {},
   "outputs": [],
   "source": []
  },
  {
   "cell_type": "markdown",
   "id": "1bc953b3",
   "metadata": {},
   "source": [
    "## Making Our Future Lives Easier"
   ]
  },
  {
   "cell_type": "code",
   "execution_count": null,
   "id": "e9124e52",
   "metadata": {},
   "outputs": [],
   "source": []
  },
  {
   "cell_type": "markdown",
   "id": "d6822fa0",
   "metadata": {},
   "source": [
    "## Module Review"
   ]
  },
  {
   "cell_type": "code",
   "execution_count": null,
   "id": "86af3890",
   "metadata": {},
   "outputs": [],
   "source": []
  },
  {
   "cell_type": "code",
   "execution_count": null,
   "id": "1b5ea131",
   "metadata": {},
   "outputs": [],
   "source": []
  },
  {
   "cell_type": "code",
   "execution_count": null,
   "id": "5ea50f25",
   "metadata": {},
   "outputs": [],
   "source": []
  },
  {
   "cell_type": "code",
   "execution_count": null,
   "id": "705e7d6e",
   "metadata": {},
   "outputs": [],
   "source": []
  }
 ],
 "metadata": {
  "kernelspec": {
   "display_name": "Python 3 (ipykernel)",
   "language": "python",
   "name": "python3"
  },
  "language_info": {
   "codemirror_mode": {
    "name": "ipython",
    "version": 3
   },
   "file_extension": ".py",
   "mimetype": "text/x-python",
   "name": "python",
   "nbconvert_exporter": "python",
   "pygments_lexer": "ipython3",
   "version": "3.11.5"
  }
 },
 "nbformat": 4,
 "nbformat_minor": 5
}
