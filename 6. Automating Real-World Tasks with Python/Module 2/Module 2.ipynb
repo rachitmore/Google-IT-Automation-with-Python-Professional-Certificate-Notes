{
 "cells": [
  {
   "cell_type": "markdown",
   "id": "18d1d4a6",
   "metadata": {},
   "source": [
    "## Interacting with Web Services\n",
    "\n",
    "### Learning Objectives\n",
    "* Design and implement Python scripts to interact with web services."
   ]
  },
  {
   "cell_type": "code",
   "execution_count": null,
   "id": "0d4ab13b",
   "metadata": {},
   "outputs": [],
   "source": []
  },
  {
   "cell_type": "code",
   "execution_count": null,
   "id": "a095fd99",
   "metadata": {},
   "outputs": [],
   "source": []
  },
  {
   "cell_type": "code",
   "execution_count": null,
   "id": "1ad95bd1",
   "metadata": {},
   "outputs": [],
   "source": []
  },
  {
   "cell_type": "code",
   "execution_count": null,
   "id": "11fa3b7d",
   "metadata": {},
   "outputs": [],
   "source": []
  }
 ],
 "metadata": {
  "kernelspec": {
   "display_name": "Python 3 (ipykernel)",
   "language": "python",
   "name": "python3"
  },
  "language_info": {
   "codemirror_mode": {
    "name": "ipython",
    "version": 3
   },
   "file_extension": ".py",
   "mimetype": "text/x-python",
   "name": "python",
   "nbconvert_exporter": "python",
   "pygments_lexer": "ipython3",
   "version": "3.11.5"
  }
 },
 "nbformat": 4,
 "nbformat_minor": 5
}
