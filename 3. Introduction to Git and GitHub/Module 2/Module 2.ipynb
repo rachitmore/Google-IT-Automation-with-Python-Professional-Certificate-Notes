{
 "cells": [
  {
   "cell_type": "markdown",
   "id": "321f6876",
   "metadata": {},
   "source": [
    "## Using Git Locally \n",
    "\n",
    "### Learning Objectives\n",
    "* Skip the staging area to delete and move files within Git\n",
    "* Delete and rename files in a repository\n",
    "* Amend and roll back commits\n",
    "* Explain the concept of branching and merging\n",
    "* Create new branches\n",
    "* Use merging to combine branched data\n",
    "* Manage and handle merge conflicts"
   ]
  },
  {
   "cell_type": "markdown",
   "id": "17f6e548",
   "metadata": {},
   "source": [
    "## Advanced Git interaction"
   ]
  },
  {
   "cell_type": "code",
   "execution_count": null,
   "id": "c77b0079",
   "metadata": {},
   "outputs": [],
   "source": []
  },
  {
   "cell_type": "markdown",
   "id": "fdfe045c",
   "metadata": {},
   "source": [
    "## Undoing Things"
   ]
  },
  {
   "cell_type": "code",
   "execution_count": null,
   "id": "9a9b4718",
   "metadata": {},
   "outputs": [],
   "source": []
  },
  {
   "cell_type": "markdown",
   "id": "c7054f62",
   "metadata": {},
   "source": [
    "## Branching and Merging"
   ]
  },
  {
   "cell_type": "code",
   "execution_count": null,
   "id": "dd482ea0",
   "metadata": {},
   "outputs": [],
   "source": []
  },
  {
   "cell_type": "markdown",
   "id": "06ebd8e2",
   "metadata": {},
   "source": [
    "## Module Review"
   ]
  },
  {
   "cell_type": "code",
   "execution_count": null,
   "id": "bf4012d2",
   "metadata": {},
   "outputs": [],
   "source": []
  },
  {
   "cell_type": "code",
   "execution_count": null,
   "id": "13aae496",
   "metadata": {},
   "outputs": [],
   "source": []
  }
 ],
 "metadata": {
  "kernelspec": {
   "display_name": "Python 3 (ipykernel)",
   "language": "python",
   "name": "python3"
  },
  "language_info": {
   "codemirror_mode": {
    "name": "ipython",
    "version": 3
   },
   "file_extension": ".py",
   "mimetype": "text/x-python",
   "name": "python",
   "nbconvert_exporter": "python",
   "pygments_lexer": "ipython3",
   "version": "3.11.5"
  }
 },
 "nbformat": 4,
 "nbformat_minor": 5
}
