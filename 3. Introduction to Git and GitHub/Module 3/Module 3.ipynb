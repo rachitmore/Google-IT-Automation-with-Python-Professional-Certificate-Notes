{
 "cells": [
  {
   "cell_type": "markdown",
   "id": "54e06822",
   "metadata": {},
   "source": [
    "## Working with Remotes\n",
    "\n",
    "### Learning Objectives\n",
    "* Describe the advantages of using separate branches\n",
    "* Utilize the git rebase command\n",
    "* Describe what GitHub is and how to interact with it\n",
    "* Explain what a remote repository is\n",
    "* Utilize remote repositories, fetch new changes, and update local repositories\n",
    "* Utilize the pull-merge-push workflow to address conflicts\n",
    "* Push remote branches so code can be viewed and tested by collaborators\n",
    "* Explain what rebasing is"
   ]
  },
  {
   "cell_type": "markdown",
   "id": "9dc50e2e",
   "metadata": {},
   "source": [
    "## Introduction to GitHub"
   ]
  },
  {
   "cell_type": "code",
   "execution_count": null,
   "id": "39f75339",
   "metadata": {},
   "outputs": [],
   "source": []
  },
  {
   "cell_type": "markdown",
   "id": "d41c8a6a",
   "metadata": {},
   "source": [
    "## Using a Remote Repository"
   ]
  },
  {
   "cell_type": "code",
   "execution_count": null,
   "id": "65700a21",
   "metadata": {},
   "outputs": [],
   "source": []
  },
  {
   "cell_type": "markdown",
   "id": "954b502a",
   "metadata": {},
   "source": [
    "## Solving Conflicts"
   ]
  },
  {
   "cell_type": "code",
   "execution_count": null,
   "id": "fb31ad65",
   "metadata": {},
   "outputs": [],
   "source": []
  },
  {
   "cell_type": "markdown",
   "id": "24982b73",
   "metadata": {},
   "source": [
    "## Module Review"
   ]
  },
  {
   "cell_type": "code",
   "execution_count": null,
   "id": "5656c4c8",
   "metadata": {},
   "outputs": [],
   "source": []
  },
  {
   "cell_type": "code",
   "execution_count": null,
   "id": "774409f0",
   "metadata": {},
   "outputs": [],
   "source": []
  }
 ],
 "metadata": {
  "kernelspec": {
   "display_name": "Python 3 (ipykernel)",
   "language": "python",
   "name": "python3"
  },
  "language_info": {
   "codemirror_mode": {
    "name": "ipython",
    "version": 3
   },
   "file_extension": ".py",
   "mimetype": "text/x-python",
   "name": "python",
   "nbconvert_exporter": "python",
   "pygments_lexer": "ipython3",
   "version": "3.11.5"
  }
 },
 "nbformat": 4,
 "nbformat_minor": 5
}
