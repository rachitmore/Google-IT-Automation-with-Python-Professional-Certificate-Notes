{
 "cells": [
  {
   "cell_type": "markdown",
   "id": "7ec62d14",
   "metadata": {},
   "source": [
    "## Collaboration\n",
    "\n",
    "### Learning Objectives\n",
    "* Utilize the code review workflow\n",
    "* Create, update, and execute pull requests on GitHub\n",
    "* Explain what a code review is\n",
    "* Use code reviews in GitHub\n",
    "* Explain the importance of managing projects and accepting or rejecting changes\n",
    "* Utilize issue trackers\n",
    "* Describe the methodology behind continuous integration"
   ]
  },
  {
   "cell_type": "markdown",
   "id": "d8aadf77",
   "metadata": {},
   "source": [
    "## Pull Requests"
   ]
  },
  {
   "cell_type": "code",
   "execution_count": null,
   "id": "baf7e73b",
   "metadata": {},
   "outputs": [],
   "source": []
  },
  {
   "cell_type": "markdown",
   "id": "e43e8202",
   "metadata": {},
   "source": [
    "## Code Reviews"
   ]
  },
  {
   "cell_type": "code",
   "execution_count": null,
   "id": "6d069a38",
   "metadata": {},
   "outputs": [],
   "source": []
  },
  {
   "cell_type": "markdown",
   "id": "843b19d2",
   "metadata": {},
   "source": [
    "## Managing Projects"
   ]
  },
  {
   "cell_type": "code",
   "execution_count": null,
   "id": "e0ad247a",
   "metadata": {},
   "outputs": [],
   "source": []
  },
  {
   "cell_type": "markdown",
   "id": "88819333",
   "metadata": {},
   "source": [
    "## Module Review"
   ]
  },
  {
   "cell_type": "code",
   "execution_count": null,
   "id": "81db2a77",
   "metadata": {},
   "outputs": [],
   "source": []
  },
  {
   "cell_type": "code",
   "execution_count": null,
   "id": "2e87e87b",
   "metadata": {},
   "outputs": [],
   "source": []
  }
 ],
 "metadata": {
  "kernelspec": {
   "display_name": "Python 3 (ipykernel)",
   "language": "python",
   "name": "python3"
  },
  "language_info": {
   "codemirror_mode": {
    "name": "ipython",
    "version": 3
   },
   "file_extension": ".py",
   "mimetype": "text/x-python",
   "name": "python",
   "nbconvert_exporter": "python",
   "pygments_lexer": "ipython3",
   "version": "3.11.5"
  }
 },
 "nbformat": 4,
 "nbformat_minor": 5
}
