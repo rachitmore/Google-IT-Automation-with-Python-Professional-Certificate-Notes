{
 "cells": [
  {
   "cell_type": "markdown",
   "id": "5ac34d0c",
   "metadata": {},
   "source": [
    "## Introdduction to Version Control\n",
    "\n",
    "### Learning Objectives\n",
    "* Describe the concept of version control and why it is important to use\n",
    "* Utilize the diff and patch commands to automate differentiating and editing files\n",
    "* Explain what Git is and its benefits of use\n",
    "* Install Git on local machine\n",
    "* Utilize Git to create and clone repositories, add code, check the status of code, and commit code"
   ]
  },
  {
   "cell_type": "markdown",
   "id": "f2755249",
   "metadata": {},
   "source": [
    "## Course Introduction"
   ]
  },
  {
   "cell_type": "code",
   "execution_count": null,
   "id": "558f178a",
   "metadata": {},
   "outputs": [],
   "source": []
  },
  {
   "cell_type": "markdown",
   "id": "b3d8be7b",
   "metadata": {},
   "source": [
    "## Before Version Control"
   ]
  },
  {
   "cell_type": "code",
   "execution_count": null,
   "id": "ffa931e2",
   "metadata": {},
   "outputs": [],
   "source": []
  },
  {
   "cell_type": "markdown",
   "id": "c18e132f",
   "metadata": {},
   "source": [
    "## Version Control Systems"
   ]
  },
  {
   "cell_type": "code",
   "execution_count": null,
   "id": "4fe0d1e3",
   "metadata": {},
   "outputs": [],
   "source": []
  },
  {
   "cell_type": "markdown",
   "id": "43d1456a",
   "metadata": {},
   "source": [
    "## Using Git"
   ]
  },
  {
   "cell_type": "code",
   "execution_count": null,
   "id": "eb563fa3",
   "metadata": {},
   "outputs": [],
   "source": []
  },
  {
   "cell_type": "markdown",
   "id": "36930ff2",
   "metadata": {},
   "source": [
    "## Module Review"
   ]
  },
  {
   "cell_type": "code",
   "execution_count": null,
   "id": "d202e8ee",
   "metadata": {},
   "outputs": [],
   "source": []
  }
 ],
 "metadata": {
  "kernelspec": {
   "display_name": "Python 3 (ipykernel)",
   "language": "python",
   "name": "python3"
  },
  "language_info": {
   "codemirror_mode": {
    "name": "ipython",
    "version": 3
   },
   "file_extension": ".py",
   "mimetype": "text/x-python",
   "name": "python",
   "nbconvert_exporter": "python",
   "pygments_lexer": "ipython3",
   "version": "3.11.5"
  }
 },
 "nbformat": 4,
 "nbformat_minor": 5
}
