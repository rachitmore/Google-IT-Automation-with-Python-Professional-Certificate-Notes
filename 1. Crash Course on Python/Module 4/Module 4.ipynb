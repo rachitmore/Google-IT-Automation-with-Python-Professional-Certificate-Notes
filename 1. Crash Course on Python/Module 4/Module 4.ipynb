{
 "cells": [
  {
   "cell_type": "markdown",
   "id": "c2550e03",
   "metadata": {},
   "source": [
    "## Strings, Lists, Dictionaries\n",
    "\n",
    "### Learning Objectives\n",
    "* Manipulate strings using indexing, slicing, and formatting\n",
    "* Use lists and tuples to store, reference, and manipulate data\n",
    "* Leverage dictionaries to store more complex data, reference data by keys, and manipulate data stored\n",
    "* Combine the String, List, and Dictionary data types to construct complex data structures"
   ]
  },
  {
   "cell_type": "code",
   "execution_count": null,
   "id": "2a3fd5fc",
   "metadata": {},
   "outputs": [],
   "source": []
  },
  {
   "cell_type": "markdown",
   "id": "dc2d4bfc",
   "metadata": {},
   "source": [
    "## String"
   ]
  },
  {
   "cell_type": "code",
   "execution_count": null,
   "id": "3678b376",
   "metadata": {},
   "outputs": [],
   "source": []
  },
  {
   "cell_type": "markdown",
   "id": "b87a674e",
   "metadata": {},
   "source": [
    "## Lists"
   ]
  },
  {
   "cell_type": "code",
   "execution_count": null,
   "id": "aa40f21f",
   "metadata": {},
   "outputs": [],
   "source": []
  },
  {
   "cell_type": "markdown",
   "id": "11560685",
   "metadata": {},
   "source": [
    "## Dictionaries"
   ]
  },
  {
   "cell_type": "code",
   "execution_count": null,
   "id": "185434a9",
   "metadata": {},
   "outputs": [],
   "source": []
  },
  {
   "cell_type": "markdown",
   "id": "0058e8ab",
   "metadata": {},
   "source": [
    "## Object Oriented Programming"
   ]
  },
  {
   "cell_type": "code",
   "execution_count": null,
   "id": "35316c41",
   "metadata": {},
   "outputs": [],
   "source": []
  },
  {
   "cell_type": "markdown",
   "id": "1a304b38",
   "metadata": {},
   "source": [
    "## Module Review"
   ]
  },
  {
   "cell_type": "code",
   "execution_count": null,
   "id": "ec1ea3c5",
   "metadata": {},
   "outputs": [],
   "source": []
  }
 ],
 "metadata": {
  "kernelspec": {
   "display_name": "Python 3 (ipykernel)",
   "language": "python",
   "name": "python3"
  },
  "language_info": {
   "codemirror_mode": {
    "name": "ipython",
    "version": 3
   },
   "file_extension": ".py",
   "mimetype": "text/x-python",
   "name": "python",
   "nbconvert_exporter": "python",
   "pygments_lexer": "ipython3",
   "version": "3.11.5"
  }
 },
 "nbformat": 4,
 "nbformat_minor": 5
}
