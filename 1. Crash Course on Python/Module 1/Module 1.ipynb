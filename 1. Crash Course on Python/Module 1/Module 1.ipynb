{
 "cells": [
  {
   "cell_type": "markdown",
   "id": "6587da08",
   "metadata": {},
   "source": [
    "## Hello Python!\n",
    "\n",
    "### Learning Objectives\n",
    "* Define the terms computer program, programming language, script, and automation\n",
    "* Use the print() function to output data to the screen\n",
    "* Explain the difference between the syntax and semantics of a programming language\n",
    "* List some of the characteristics of the Python language\n",
    "* Utilize basic Python arithmetic operators to obtain the results of mathematical expressions"
   ]
  },
  {
   "cell_type": "markdown",
   "id": "fea4e93c",
   "metadata": {},
   "source": [
    "## Course Introduction"
   ]
  },
  {
   "cell_type": "code",
   "execution_count": null,
   "id": "80bcb7e3",
   "metadata": {},
   "outputs": [],
   "source": []
  },
  {
   "cell_type": "markdown",
   "id": "2b3399c0",
   "metadata": {},
   "source": [
    "## Introduction to Programming"
   ]
  },
  {
   "cell_type": "code",
   "execution_count": null,
   "id": "86e22317",
   "metadata": {},
   "outputs": [],
   "source": []
  },
  {
   "cell_type": "markdown",
   "id": "6b314f0a",
   "metadata": {},
   "source": [
    "## Introduction to Python"
   ]
  },
  {
   "cell_type": "code",
   "execution_count": null,
   "id": "6541b11b",
   "metadata": {},
   "outputs": [],
   "source": []
  },
  {
   "cell_type": "markdown",
   "id": "0cf4c6cc",
   "metadata": {},
   "source": [
    "## Hello World "
   ]
  },
  {
   "cell_type": "code",
   "execution_count": null,
   "id": "d912aa3b",
   "metadata": {},
   "outputs": [],
   "source": []
  },
  {
   "cell_type": "markdown",
   "id": "9d82eb67",
   "metadata": {},
   "source": [
    "## Module Review"
   ]
  },
  {
   "cell_type": "code",
   "execution_count": null,
   "id": "486beb75",
   "metadata": {},
   "outputs": [],
   "source": []
  }
 ],
 "metadata": {
  "kernelspec": {
   "display_name": "Python 3 (ipykernel)",
   "language": "python",
   "name": "python3"
  },
  "language_info": {
   "codemirror_mode": {
    "name": "ipython",
    "version": 3
   },
   "file_extension": ".py",
   "mimetype": "text/x-python",
   "name": "python",
   "nbconvert_exporter": "python",
   "pygments_lexer": "ipython3",
   "version": "3.11.5"
  }
 },
 "nbformat": 4,
 "nbformat_minor": 5
}
