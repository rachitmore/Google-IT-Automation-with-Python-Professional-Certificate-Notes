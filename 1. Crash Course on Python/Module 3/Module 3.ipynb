{
 "cells": [
  {
   "cell_type": "markdown",
   "id": "6e65b664",
   "metadata": {},
   "source": [
    "## Loops\n",
    "\n",
    "### Learning Objectives\n",
    "* Implement while loops to continuously execute code while a condition is true\n",
    "* Identify and fix infinite loops when using while loops\n",
    "* Utilize for loops to iterate over a block of code\n",
    "* Use the range() function to control for loops\n",
    "* Use nested while and for loops with if statements\n",
    "* Identify and correct common errors when using loops"
   ]
  },
  {
   "cell_type": "markdown",
   "id": "52dd8ffd",
   "metadata": {},
   "source": [
    "## While Loops"
   ]
  },
  {
   "cell_type": "code",
   "execution_count": null,
   "id": "1c839ca4",
   "metadata": {},
   "outputs": [],
   "source": []
  },
  {
   "cell_type": "markdown",
   "id": "7546c385",
   "metadata": {},
   "source": [
    "## For Loops"
   ]
  },
  {
   "cell_type": "code",
   "execution_count": null,
   "id": "9f348ade",
   "metadata": {},
   "outputs": [],
   "source": []
  },
  {
   "cell_type": "markdown",
   "id": "b1e73afb",
   "metadata": {},
   "source": [
    "## Recursion"
   ]
  },
  {
   "cell_type": "code",
   "execution_count": null,
   "id": "b45e2ce2",
   "metadata": {},
   "outputs": [],
   "source": []
  },
  {
   "cell_type": "markdown",
   "id": "3d3fed0c",
   "metadata": {},
   "source": [
    "## Module Review"
   ]
  },
  {
   "cell_type": "code",
   "execution_count": null,
   "id": "775fb6ec",
   "metadata": {},
   "outputs": [],
   "source": []
  }
 ],
 "metadata": {
  "kernelspec": {
   "display_name": "Python 3 (ipykernel)",
   "language": "python",
   "name": "python3"
  },
  "language_info": {
   "codemirror_mode": {
    "name": "ipython",
    "version": 3
   },
   "file_extension": ".py",
   "mimetype": "text/x-python",
   "name": "python",
   "nbconvert_exporter": "python",
   "pygments_lexer": "ipython3",
   "version": "3.11.5"
  }
 },
 "nbformat": 4,
 "nbformat_minor": 5
}
