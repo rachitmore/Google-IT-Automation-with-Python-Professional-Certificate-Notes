{
 "cells": [
  {
   "cell_type": "markdown",
   "id": "f34297fe",
   "metadata": {},
   "source": [
    "## Final Project\n",
    "\n",
    "### Learning Objectives\n",
    "* Tackle more complex problems from the ground up using a framework\n",
    "* Formulate a problem statement to understand the inputs and outputs of a script\n",
    "* Conduct research into options for tackling the problem\n",
    "* Plan an approach to solving the problem\n",
    "* Write a complex script in order to implement a solution"
   ]
  },
  {
   "cell_type": "code",
   "execution_count": null,
   "id": "ee4dce03",
   "metadata": {},
   "outputs": [],
   "source": []
  },
  {
   "cell_type": "markdown",
   "id": "d8392458",
   "metadata": {},
   "source": [
    "## Writing a Script from the Ground Up"
   ]
  },
  {
   "cell_type": "code",
   "execution_count": null,
   "id": "a3f67e7f",
   "metadata": {},
   "outputs": [],
   "source": []
  },
  {
   "cell_type": "markdown",
   "id": "4137c83d",
   "metadata": {},
   "source": [
    "## Course Wrap-Up"
   ]
  },
  {
   "cell_type": "code",
   "execution_count": null,
   "id": "cbd9e8f6",
   "metadata": {},
   "outputs": [],
   "source": []
  },
  {
   "cell_type": "code",
   "execution_count": null,
   "id": "9ecbfaf4",
   "metadata": {},
   "outputs": [],
   "source": []
  },
  {
   "cell_type": "code",
   "execution_count": null,
   "id": "f2e7046e",
   "metadata": {},
   "outputs": [],
   "source": []
  },
  {
   "cell_type": "code",
   "execution_count": null,
   "id": "ea8677fb",
   "metadata": {},
   "outputs": [],
   "source": []
  },
  {
   "cell_type": "code",
   "execution_count": null,
   "id": "bcc45dd8",
   "metadata": {},
   "outputs": [],
   "source": []
  }
 ],
 "metadata": {
  "kernelspec": {
   "display_name": "Python 3 (ipykernel)",
   "language": "python",
   "name": "python3"
  },
  "language_info": {
   "codemirror_mode": {
    "name": "ipython",
    "version": 3
   },
   "file_extension": ".py",
   "mimetype": "text/x-python",
   "name": "python",
   "nbconvert_exporter": "python",
   "pygments_lexer": "ipython3",
   "version": "3.11.5"
  }
 },
 "nbformat": 4,
 "nbformat_minor": 5
}
