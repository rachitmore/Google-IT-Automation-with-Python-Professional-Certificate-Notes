{
 "cells": [
  {
   "cell_type": "markdown",
   "id": "2b930561",
   "metadata": {},
   "source": [
    "## Basic Python Syntax\n",
    "\n",
    "### Learning Objectives\n",
    "* Differentiate and convert between different data types utilizing variables\n",
    "* Define and call functions utilizing parameters and return data\n",
    "* Refactor code and write comments to reduce complexity and enhance code readability and code reuse\n",
    "* Compare values using equality operators and logical operators\n",
    "* Build complex branching scripts utilizing if, else and elif statements"
   ]
  },
  {
   "cell_type": "code",
   "execution_count": null,
   "id": "d7312a53",
   "metadata": {},
   "outputs": [],
   "source": []
  },
  {
   "cell_type": "markdown",
   "id": "14bcbb52",
   "metadata": {},
   "source": [
    "## Expressions and Variables"
   ]
  },
  {
   "cell_type": "code",
   "execution_count": null,
   "id": "18ae0517",
   "metadata": {},
   "outputs": [],
   "source": []
  },
  {
   "cell_type": "markdown",
   "id": "0a7893e0",
   "metadata": {},
   "source": [
    "## Functions"
   ]
  },
  {
   "cell_type": "code",
   "execution_count": null,
   "id": "407a3cba",
   "metadata": {},
   "outputs": [],
   "source": []
  },
  {
   "cell_type": "markdown",
   "id": "9abe46ad",
   "metadata": {},
   "source": [
    "## Conditional "
   ]
  },
  {
   "cell_type": "code",
   "execution_count": null,
   "id": "555c9de1",
   "metadata": {},
   "outputs": [],
   "source": []
  },
  {
   "cell_type": "markdown",
   "id": "b255eabd",
   "metadata": {},
   "source": [
    "## Module Review"
   ]
  },
  {
   "cell_type": "code",
   "execution_count": null,
   "id": "4807e6f2",
   "metadata": {},
   "outputs": [],
   "source": []
  }
 ],
 "metadata": {
  "kernelspec": {
   "display_name": "Python 3 (ipykernel)",
   "language": "python",
   "name": "python3"
  },
  "language_info": {
   "codemirror_mode": {
    "name": "ipython",
    "version": 3
   },
   "file_extension": ".py",
   "mimetype": "text/x-python",
   "name": "python",
   "nbconvert_exporter": "python",
   "pygments_lexer": "ipython3",
   "version": "3.11.5"
  }
 },
 "nbformat": 4,
 "nbformat_minor": 5
}
