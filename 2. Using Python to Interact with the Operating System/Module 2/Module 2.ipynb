{
 "cells": [
  {
   "cell_type": "markdown",
   "id": "8f72eb12",
   "metadata": {},
   "source": [
    "## Managing Files with Python\n",
    "\n",
    "### Learning Objectives\n",
    "* Read, write, and iterate through files\n",
    "* Manage files by moving, deleting, and renaming files\n",
    "* Create and navigate through directories\n",
    "* Define what CSV files are and read from them\n",
    "* Write and make edits to CSV files within directories"
   ]
  },
  {
   "cell_type": "code",
   "execution_count": null,
   "id": "a332a73b",
   "metadata": {},
   "outputs": [],
   "source": []
  },
  {
   "cell_type": "markdown",
   "id": "1e504c59",
   "metadata": {},
   "source": [
    "## Reading and Writing Files"
   ]
  },
  {
   "cell_type": "code",
   "execution_count": null,
   "id": "f47c395b",
   "metadata": {},
   "outputs": [],
   "source": []
  },
  {
   "cell_type": "markdown",
   "id": "50200841",
   "metadata": {},
   "source": [
    "## File Paths"
   ]
  },
  {
   "cell_type": "code",
   "execution_count": null,
   "id": "6bdaa449",
   "metadata": {},
   "outputs": [],
   "source": []
  },
  {
   "cell_type": "markdown",
   "id": "49533490",
   "metadata": {},
   "source": [
    "## Managing Files and Directories"
   ]
  },
  {
   "cell_type": "code",
   "execution_count": null,
   "id": "e5195666",
   "metadata": {},
   "outputs": [],
   "source": []
  },
  {
   "cell_type": "markdown",
   "id": "33b1e903",
   "metadata": {},
   "source": [
    "## Reading and Writing CSV Files"
   ]
  },
  {
   "cell_type": "code",
   "execution_count": null,
   "id": "19323d0d",
   "metadata": {},
   "outputs": [],
   "source": []
  },
  {
   "cell_type": "markdown",
   "id": "236a89b1",
   "metadata": {},
   "source": [
    "## Module Review"
   ]
  },
  {
   "cell_type": "code",
   "execution_count": null,
   "id": "79496717",
   "metadata": {},
   "outputs": [],
   "source": []
  },
  {
   "cell_type": "code",
   "execution_count": null,
   "id": "2feb495f",
   "metadata": {},
   "outputs": [],
   "source": []
  },
  {
   "cell_type": "code",
   "execution_count": null,
   "id": "e65bd228",
   "metadata": {},
   "outputs": [],
   "source": []
  },
  {
   "cell_type": "code",
   "execution_count": null,
   "id": "66184d8b",
   "metadata": {},
   "outputs": [],
   "source": []
  },
  {
   "cell_type": "code",
   "execution_count": null,
   "id": "83d9397e",
   "metadata": {},
   "outputs": [],
   "source": []
  }
 ],
 "metadata": {
  "kernelspec": {
   "display_name": "Python 3 (ipykernel)",
   "language": "python",
   "name": "python3"
  },
  "language_info": {
   "codemirror_mode": {
    "name": "ipython",
    "version": 3
   },
   "file_extension": ".py",
   "mimetype": "text/x-python",
   "name": "python",
   "nbconvert_exporter": "python",
   "pygments_lexer": "ipython3",
   "version": "3.11.5"
  }
 },
 "nbformat": 4,
 "nbformat_minor": 5
}
