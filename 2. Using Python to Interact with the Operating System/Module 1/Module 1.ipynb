{
 "cells": [
  {
   "cell_type": "markdown",
   "id": "e7f2a29d",
   "metadata": {},
   "source": [
    "## Getting Your Python On\n",
    "\n",
    "### Learning Objectives\n",
    "* Identify the components and functions of an operating system\n",
    "* Describe the difference between interpreted and compiled programming languages\n",
    "* Explain what an IDE (integrated development environment) is\n",
    "* Install and run Python on a local machine\n",
    "* List the benefits and pitfalls of automation"
   ]
  },
  {
   "cell_type": "code",
   "execution_count": null,
   "id": "1a429962",
   "metadata": {},
   "outputs": [],
   "source": []
  },
  {
   "cell_type": "markdown",
   "id": "49bdb804",
   "metadata": {},
   "source": [
    "## Course Introduction"
   ]
  },
  {
   "cell_type": "code",
   "execution_count": null,
   "id": "c7bcc1ff",
   "metadata": {},
   "outputs": [],
   "source": []
  },
  {
   "cell_type": "markdown",
   "id": "1b91b289",
   "metadata": {},
   "source": [
    "## Getting Ready for Python"
   ]
  },
  {
   "cell_type": "code",
   "execution_count": null,
   "id": "7cb9090c",
   "metadata": {},
   "outputs": [],
   "source": []
  },
  {
   "cell_type": "markdown",
   "id": "11e43ba1",
   "metadata": {},
   "source": [
    "## Running Python Locally"
   ]
  },
  {
   "cell_type": "code",
   "execution_count": null,
   "id": "a69725d6",
   "metadata": {},
   "outputs": [],
   "source": []
  },
  {
   "cell_type": "markdown",
   "id": "6e5014bc",
   "metadata": {},
   "source": [
    "## Automating Task Through Programming"
   ]
  },
  {
   "cell_type": "code",
   "execution_count": null,
   "id": "86890acc",
   "metadata": {},
   "outputs": [],
   "source": []
  },
  {
   "cell_type": "markdown",
   "id": "373431a5",
   "metadata": {},
   "source": [
    "## Module Review"
   ]
  },
  {
   "cell_type": "code",
   "execution_count": null,
   "id": "db42cfe8",
   "metadata": {},
   "outputs": [],
   "source": []
  },
  {
   "cell_type": "code",
   "execution_count": null,
   "id": "a5aa5b11",
   "metadata": {},
   "outputs": [],
   "source": []
  }
 ],
 "metadata": {
  "kernelspec": {
   "display_name": "Python 3 (ipykernel)",
   "language": "python",
   "name": "python3"
  },
  "language_info": {
   "codemirror_mode": {
    "name": "ipython",
    "version": 3
   },
   "file_extension": ".py",
   "mimetype": "text/x-python",
   "name": "python",
   "nbconvert_exporter": "python",
   "pygments_lexer": "ipython3",
   "version": "3.11.5"
  }
 },
 "nbformat": 4,
 "nbformat_minor": 5
}
