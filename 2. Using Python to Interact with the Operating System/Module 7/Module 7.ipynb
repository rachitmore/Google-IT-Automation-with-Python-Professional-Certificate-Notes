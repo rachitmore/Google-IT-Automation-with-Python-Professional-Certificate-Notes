{
 "cells": [
  {
   "cell_type": "markdown",
   "id": "1b5d3c2e",
   "metadata": {},
   "source": [
    "## Final Project\n",
    "\n",
    "### Learning Objectives\n",
    "* Approach a problem using frameworks and best practices\n",
    "* Formulate a problem statement to understand the inputs and outputs of a script\n",
    "* Create a planned approach to solve the problem\n",
    "* Write a complex script to solve a problem"
   ]
  },
  {
   "cell_type": "markdown",
   "id": "070e7604",
   "metadata": {},
   "source": [
    "## Getting Ready for Final Project"
   ]
  },
  {
   "cell_type": "code",
   "execution_count": null,
   "id": "f025c3c1",
   "metadata": {},
   "outputs": [],
   "source": []
  },
  {
   "cell_type": "markdown",
   "id": "6d4a84ea",
   "metadata": {},
   "source": [
    "## Job Searching and Professional Netwoorking"
   ]
  },
  {
   "cell_type": "code",
   "execution_count": null,
   "id": "acfeacc4",
   "metadata": {},
   "outputs": [],
   "source": []
  },
  {
   "cell_type": "markdown",
   "id": "9e358ec6",
   "metadata": {},
   "source": [
    "## Course Wrap-Up"
   ]
  },
  {
   "cell_type": "code",
   "execution_count": null,
   "id": "1f849def",
   "metadata": {},
   "outputs": [],
   "source": []
  },
  {
   "cell_type": "code",
   "execution_count": null,
   "id": "90b7bdda",
   "metadata": {},
   "outputs": [],
   "source": []
  },
  {
   "cell_type": "code",
   "execution_count": null,
   "id": "9838d160",
   "metadata": {},
   "outputs": [],
   "source": []
  }
 ],
 "metadata": {
  "kernelspec": {
   "display_name": "Python 3 (ipykernel)",
   "language": "python",
   "name": "python3"
  },
  "language_info": {
   "codemirror_mode": {
    "name": "ipython",
    "version": 3
   },
   "file_extension": ".py",
   "mimetype": "text/x-python",
   "name": "python",
   "nbconvert_exporter": "python",
   "pygments_lexer": "ipython3",
   "version": "3.11.5"
  }
 },
 "nbformat": 4,
 "nbformat_minor": 5
}
