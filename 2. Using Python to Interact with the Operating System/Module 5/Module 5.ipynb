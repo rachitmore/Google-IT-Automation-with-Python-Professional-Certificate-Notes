{
 "cells": [
  {
   "cell_type": "markdown",
   "id": "00497403",
   "metadata": {},
   "source": [
    "## Testing in Python\n",
    "\n",
    "### Learning Objectives\n",
    "* Explain what testing is and the different types of testing available\n",
    "* Describe the difference between black box and white box testing\n",
    "* Explain test-driven development\n",
    "* Apply a try-except construct to catch errors and exceptions"
   ]
  },
  {
   "cell_type": "code",
   "execution_count": null,
   "id": "b2a1669c",
   "metadata": {},
   "outputs": [],
   "source": []
  },
  {
   "cell_type": "markdown",
   "id": "b9ece982",
   "metadata": {},
   "source": [
    "## Simple Tests"
   ]
  },
  {
   "cell_type": "code",
   "execution_count": null,
   "id": "49cfac54",
   "metadata": {},
   "outputs": [],
   "source": []
  },
  {
   "cell_type": "markdown",
   "id": "4f93b31e",
   "metadata": {},
   "source": [
    "## Unit Tests"
   ]
  },
  {
   "cell_type": "code",
   "execution_count": null,
   "id": "c5011cf6",
   "metadata": {},
   "outputs": [],
   "source": []
  },
  {
   "cell_type": "markdown",
   "id": "cff8319b",
   "metadata": {},
   "source": [
    "## Other Tests Comcepts"
   ]
  },
  {
   "cell_type": "code",
   "execution_count": null,
   "id": "57a09b23",
   "metadata": {},
   "outputs": [],
   "source": []
  },
  {
   "cell_type": "markdown",
   "id": "ff5a525c",
   "metadata": {},
   "source": [
    "## Error and Exceptions"
   ]
  },
  {
   "cell_type": "code",
   "execution_count": null,
   "id": "6d1c080e",
   "metadata": {},
   "outputs": [],
   "source": []
  },
  {
   "cell_type": "markdown",
   "id": "3a12850d",
   "metadata": {},
   "source": [
    "## Module Review"
   ]
  },
  {
   "cell_type": "code",
   "execution_count": null,
   "id": "96d9e729",
   "metadata": {},
   "outputs": [],
   "source": []
  },
  {
   "cell_type": "code",
   "execution_count": null,
   "id": "920efcbe",
   "metadata": {},
   "outputs": [],
   "source": []
  }
 ],
 "metadata": {
  "kernelspec": {
   "display_name": "Python 3 (ipykernel)",
   "language": "python",
   "name": "python3"
  },
  "language_info": {
   "codemirror_mode": {
    "name": "ipython",
    "version": 3
   },
   "file_extension": ".py",
   "mimetype": "text/x-python",
   "name": "python",
   "nbconvert_exporter": "python",
   "pygments_lexer": "ipython3",
   "version": "3.11.5"
  }
 },
 "nbformat": 4,
 "nbformat_minor": 5
}
