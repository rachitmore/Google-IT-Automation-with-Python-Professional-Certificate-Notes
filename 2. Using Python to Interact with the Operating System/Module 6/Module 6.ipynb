{
 "cells": [
  {
   "cell_type": "markdown",
   "id": "69fa0d25",
   "metadata": {},
   "source": [
    "## Bash Scripting\n",
    "\n",
    "### Learning Objectives\n",
    "* Use basic Linux commands to work with files and directories\n",
    "* Create bash scripts and execute them\n",
    "* Execute scripts using variables and globs to influence the output of these scripts\n",
    "* Utilize while and for loops in bash scripts\n",
    "* Describe when it’s necessary to use Bash scripts over Python scripts"
   ]
  },
  {
   "cell_type": "code",
   "execution_count": null,
   "id": "8c59cea7",
   "metadata": {},
   "outputs": [],
   "source": []
  },
  {
   "cell_type": "markdown",
   "id": "5d48387f",
   "metadata": {},
   "source": [
    "## Interacting with the Command Line Shell"
   ]
  },
  {
   "cell_type": "code",
   "execution_count": null,
   "id": "a1c01e79",
   "metadata": {},
   "outputs": [],
   "source": []
  },
  {
   "cell_type": "markdown",
   "id": "1680a83e",
   "metadata": {},
   "source": [
    "## Bash Scripting"
   ]
  },
  {
   "cell_type": "code",
   "execution_count": null,
   "id": "1a06591d",
   "metadata": {},
   "outputs": [],
   "source": []
  },
  {
   "cell_type": "markdown",
   "id": "a2754ac7",
   "metadata": {},
   "source": [
    "## Advanced Bash Concepts"
   ]
  },
  {
   "cell_type": "code",
   "execution_count": null,
   "id": "cfa4a595",
   "metadata": {},
   "outputs": [],
   "source": []
  },
  {
   "cell_type": "markdown",
   "id": "b98cbeaa",
   "metadata": {},
   "source": [
    "## Module Review"
   ]
  },
  {
   "cell_type": "code",
   "execution_count": null,
   "id": "c8bddcd9",
   "metadata": {},
   "outputs": [],
   "source": []
  },
  {
   "cell_type": "code",
   "execution_count": null,
   "id": "53c988ea",
   "metadata": {},
   "outputs": [],
   "source": []
  }
 ],
 "metadata": {
  "kernelspec": {
   "display_name": "Python 3 (ipykernel)",
   "language": "python",
   "name": "python3"
  },
  "language_info": {
   "codemirror_mode": {
    "name": "ipython",
    "version": 3
   },
   "file_extension": ".py",
   "mimetype": "text/x-python",
   "name": "python",
   "nbconvert_exporter": "python",
   "pygments_lexer": "ipython3",
   "version": "3.11.5"
  }
 },
 "nbformat": 4,
 "nbformat_minor": 5
}
