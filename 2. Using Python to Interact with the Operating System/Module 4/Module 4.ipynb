{
 "cells": [
  {
   "cell_type": "markdown",
   "id": "f8df6eae",
   "metadata": {},
   "source": [
    "## Managing Data and Processes\n",
    "\n",
    "### Learning Objectives\n",
    "* Interact with log files using regular expressions\n",
    "* Utilize Python to interact with a user to attain certain values\n",
    "* Use the input() module to interact with the user\n",
    "* Describe how subprocess.run works and interacts with system commands like ping\n",
    "* Explain what a log file is\n",
    "* Use the get command to pull data from log files"
   ]
  },
  {
   "cell_type": "code",
   "execution_count": null,
   "id": "9352b2f5",
   "metadata": {},
   "outputs": [],
   "source": []
  },
  {
   "cell_type": "markdown",
   "id": "4ba39029",
   "metadata": {},
   "source": [
    "## Data Streams"
   ]
  },
  {
   "cell_type": "code",
   "execution_count": null,
   "id": "5d8dbb1c",
   "metadata": {},
   "outputs": [],
   "source": []
  },
  {
   "cell_type": "markdown",
   "id": "b6225a30",
   "metadata": {},
   "source": [
    "## Python Subprocesses"
   ]
  },
  {
   "cell_type": "code",
   "execution_count": null,
   "id": "8887410e",
   "metadata": {},
   "outputs": [],
   "source": []
  },
  {
   "cell_type": "markdown",
   "id": "3ea58a1e",
   "metadata": {},
   "source": [
    "## Processing Log Files "
   ]
  },
  {
   "cell_type": "code",
   "execution_count": null,
   "id": "7066347e",
   "metadata": {},
   "outputs": [],
   "source": []
  },
  {
   "cell_type": "markdown",
   "id": "88d3add9",
   "metadata": {},
   "source": [
    "## Module Review"
   ]
  },
  {
   "cell_type": "code",
   "execution_count": null,
   "id": "56badf99",
   "metadata": {},
   "outputs": [],
   "source": []
  }
 ],
 "metadata": {
  "kernelspec": {
   "display_name": "Python 3 (ipykernel)",
   "language": "python",
   "name": "python3"
  },
  "language_info": {
   "codemirror_mode": {
    "name": "ipython",
    "version": 3
   },
   "file_extension": ".py",
   "mimetype": "text/x-python",
   "name": "python",
   "nbconvert_exporter": "python",
   "pygments_lexer": "ipython3",
   "version": "3.11.5"
  }
 },
 "nbformat": 4,
 "nbformat_minor": 5
}
